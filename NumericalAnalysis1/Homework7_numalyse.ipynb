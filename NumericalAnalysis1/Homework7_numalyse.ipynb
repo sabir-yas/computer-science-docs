{
  "nbformat": 4,
  "nbformat_minor": 0,
  "metadata": {
    "colab": {
      "provenance": []
    },
    "kernelspec": {
      "name": "python3",
      "display_name": "Python 3"
    },
    "language_info": {
      "name": "python"
    }
  },
  "cells": [
    {
      "cell_type": "markdown",
      "source": [
        "https://colab.research.google.com/drive/1354E57gdeQ3ZXexmjROKzZv5TT6haTB1?usp=sharing"
      ],
      "metadata": {
        "id": "0Mycbrrvl_Tb"
      }
    },
    {
      "cell_type": "code",
      "execution_count": 1,
      "metadata": {
        "colab": {
          "base_uri": "https://localhost:8080/"
        },
        "id": "f2lbsoamkFqh",
        "outputId": "69b2ccff-3a82-4b27-94c9-2e373f3692bb"
      },
      "outputs": [
        {
          "output_type": "stream",
          "name": "stdout",
          "text": [
            "Question 1 - Arc length L = 2.495247\n",
            "Question 2 - t* for s = 0.4 is 0.350239\n",
            "Question 3 - s to t mapping:\n",
            "s = 0.1, t = 0.124063\n",
            "s = 0.2, t = 0.204047\n",
            "s = 0.3, t = 0.276524\n",
            "s = 0.4, t = 0.350239\n",
            "s = 0.5, t = 0.432522\n",
            "s = 0.6, t = 0.525089\n",
            "s = 0.7, t = 0.602218\n",
            "s = 0.8, t = 0.657022\n",
            "s = 0.9, t = 0.699023\n",
            "s = 1.0, t = 0.733502\n",
            "s = 1.1, t = 0.763061\n",
            "s = 1.2, t = 0.789135\n",
            "s = 1.3, t = 0.812596\n",
            "s = 1.4, t = 0.834013\n",
            "s = 1.5, t = 0.853784\n",
            "s = 1.6, t = 0.872192\n",
            "s = 1.7, t = 0.889454\n",
            "s = 1.8, t = 0.905733\n",
            "s = 1.9, t = 0.921161\n",
            "s = 2.0, t = 0.935840\n",
            "s = 2.1, t = 0.949857\n",
            "s = 2.2, t = 0.963283\n",
            "s = 2.3, t = 0.976176\n",
            "s = 2.4, t = 0.988587\n",
            "Iter 1: t = 0.3490807081696780, forward error = 1.1585019292569831e-03\n",
            "Iter 2: t = 0.3502383448163054, forward error = 8.6528262960294811e-07\n",
            "Iter 3: t = 0.3502393082927784, forward error = 9.8193843389715596e-08\n",
            "Iter 4: t = 0.3502393082934500, forward error = 9.8194515019134343e-08\n",
            "Iter 5: t = 0.3502393082934499, forward error = 9.8194514908112041e-08\n",
            "Iter 6: t = 0.3502393082934500, forward error = 9.8194514963623192e-08\n",
            "Iter 7: t = 0.3502393082934499, forward error = 9.8194514908112041e-08\n",
            "Iter 8: t = 0.3502393082934500, forward error = 9.8194514963623192e-08\n",
            "Iter 9: t = 0.3502393082934499, forward error = 9.8194514908112041e-08\n",
            "Iter 10: t = 0.3502393082934500, forward error = 9.8194514963623192e-08\n"
          ]
        }
      ],
      "source": [
        "import numpy as np\n",
        "from scipy.integrate import quad\n",
        "from scipy.optimize import root_scalar\n",
        "import matplotlib.pyplot as plt\n",
        "\n",
        "# Given parametric functions\n",
        "x = lambda t: 0.5 + 0.3 * t + 3.9 * t**2 - 4.7 * t**3\n",
        "y = lambda t: 1.5 + 0.3 * t + 0.9 * t**2 - 2.7 * t**3\n",
        "\n",
        "# Derivatives\n",
        "dx = lambda t: 0.3 + 7.8 * t - 14.1 * t**2\n",
        "dy = lambda t: 0.3 + 1.8 * t - 8.1 * t**2\n",
        "\n",
        "# Question 1: Arc length function\n",
        "f = lambda t: np.sqrt(dx(t)**2 + dy(t)**2)\n",
        "L, _ = quad(f, 0, 1)\n",
        "print(f\"Question 1 - Arc length L = {L:.6f}\")\n",
        "\n",
        "# Question 2: Find t_ such that ∫₀^t_ f(t) dt = 0.4\n",
        "def length_to_t(t, s):\n",
        "    result, _ = quad(f, 0, t)\n",
        "    return result - s\n",
        "\n",
        "s_target = 0.4\n",
        "sol = root_scalar(length_to_t, args=(s_target,), bracket=[0, 1], method='brentq')\n",
        "t_star = sol.root\n",
        "print(f\"Question 2 - t* for s = {s_target} is {t_star:.6f}\")\n",
        "\n",
        "# Question 3: Find t_ for s in [0.1, ..., 2.4]\n",
        "s_vals = np.arange(0.1, 2.5, 0.1)\n",
        "t_vals = []\n",
        "\n",
        "for s in s_vals:\n",
        "    sol = root_scalar(length_to_t, args=(s,), bracket=[0, 1], method='brentq')\n",
        "    t_vals.append(sol.root)\n",
        "\n",
        "print(\"Question 3 - s to t mapping:\")\n",
        "for s, t_ in zip(s_vals, t_vals):\n",
        "    print(f\"s = {s:.1f}, t = {t_:.6f}\")\n",
        "\n",
        "# Question 4: Newton's method with forward error\n",
        "true_t_star, _ = quad(f, 0, 0.350239)\n",
        "true_root = 0.350239210098935  # High-precision root from earlier\n",
        "\n",
        "def newton_method(s, tol=1e-12, max_iter=10):\n",
        "    def F(t): return quad(f, 0, t)[0] - s\n",
        "    def F_prime(t): return f(t)\n",
        "\n",
        "    t = 0.3  # Initial guess\n",
        "    for i in range(max_iter):\n",
        "        ft = F(t)\n",
        "        fpt = F_prime(t)\n",
        "        if fpt == 0:\n",
        "            raise ValueError(\"Derivative is zero during Newton's method\")\n",
        "        t_new = t - ft / fpt\n",
        "        error = abs(t_new - true_root)\n",
        "        print(f\"Iter {i+1}: t = {t_new:.16f}, forward error = {error:.16e}\")\n",
        "        if error < tol:\n",
        "            break\n",
        "        t = t_new\n",
        "\n",
        "newton_method(0.4)\n"
      ]
    }
  ]
}