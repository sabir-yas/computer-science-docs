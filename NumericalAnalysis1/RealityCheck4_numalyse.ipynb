{
  "nbformat": 4,
  "nbformat_minor": 0,
  "metadata": {
    "colab": {
      "provenance": []
    },
    "kernelspec": {
      "name": "python3",
      "display_name": "Python 3"
    },
    "language_info": {
      "name": "python"
    }
  },
  "cells": [
    {
      "cell_type": "markdown",
      "source": [
        "https://colab.research.google.com/drive/1RpoUTiSK0btEZA6OMKCEBBNHvdTQ6tbf?usp=sharing"
      ],
      "metadata": {
        "id": "Y4hwkw2QMgc9"
      }
    },
    {
      "cell_type": "markdown",
      "metadata": {
        "id": "oVplHarBElSD"
      },
      "source": [
        "#1.\n",
        "\n",
        "Solve the system (4.37) by using Multivariate Newton's Method. Find the receiver position $(x, y, z)$ near earth and time correction $d$ for known, simultaneous satellite positions $(15600,7540,20140)$, $(18760,2750,18610)$, $(17610,14630,13480)$, $(19170,610,18390)$ in km, and measured time intervals $0.07074$, $0.07220$, $0.07690$, $0.07242$ in seconds, respectively. Set the initial vector to be $(x_0, y_0, z_0, d_0) = (0,0,6370,0)$. As a check, the answers are approximately $(x, y, z) = (−41.77271,−16.78919,6370.0596)$,and $d =−3.201566 \\times 10^{-3}$ seconds."
      ]
    },
    {
      "cell_type": "code",
      "metadata": {
        "id": "_tThPcjA1_nz",
        "colab": {
          "base_uri": "https://localhost:8080/"
        },
        "outputId": "2933994b-41c1-4847-8827-0cb5ee0a9d72"
      },
      "source": [
        "import numpy as np\n",
        "from numpy import sqrt\n",
        "\n",
        "##### TODO #0: uncomment r, Earth's radius in km\n",
        "##### TODO #0: uncomment c, the speed of light in km/sec\n",
        "\n",
        "r = 6367.4447                             # Earth's radius (km)\n",
        "c = 299792.458                            # speed of light in the void/emptiness (km/sec)\n",
        "\n",
        "# Below are the known simultaneous satellite positions (km) and measured\n",
        "# time intervals (s).\n",
        "A1 = 15600; B1 =  7540; C1 = 20140; t1 = 0.07074;\n",
        "A2 = 18760; B2 =  2750; C2 = 18610; t2 = 0.07220;\n",
        "A3 = 17610; B3 = 14630; C3 = 13480; t3 = 0.07690;\n",
        "A4 = 19170; B4 =   610; C4 = 18390; t4 = 0.07242;\n",
        "\n",
        "# Solve the system with Multivariate Newton's Method\n",
        "\n",
        "\n",
        "##### TODO #1: uncomment F(x)\n",
        "F = lambda x: np.array(\n",
        "    [ [ sqrt( ( x[0,0] - A1 ) ** 2 + ( x[1,0] - B1 ) ** 2 + ( x[2,0] - C1 ) ** 2 ) - c * (t1 - x[3,0] ) ],\n",
        "      [ sqrt( ( x[0,0] - A2 ) ** 2 + ( x[1,0] - B2 ) ** 2 + ( x[2,0] - C2 ) ** 2 ) - c * (t2 - x[3,0] ) ],\n",
        "      [ sqrt( ( x[0,0] - A3 ) ** 2 + ( x[1,0] - B3 ) ** 2 + ( x[2,0] - C3 ) ** 2 ) - c * (t3 - x[3,0] ) ],\n",
        "      [ sqrt( ( x[0,0] - A4 ) ** 2 + ( x[1,0] - B4 ) ** 2 + ( x[2,0] - C4 ) ** 2 ) - c * (t4 - x[3,0] ) ] ] )\n",
        "\n",
        "##### TODO #2: uncomment J(x)\n",
        "J  = lambda x: np.array(\n",
        "    [ [ ( x[0,0] - A1 ) / sqrt( ( x[0,0] - A1 ) ** 2 + ( x[1,0] - B1 ) ** 2 + ( x[2,0] - C1 ) ** 2 ),\n",
        "        ( x[1,0] - B1 ) / sqrt( ( x[0,0] - A1 ) ** 2 + ( x[1,0] - B1 ) ** 2 + ( x[2,0] - C1 ) ** 2 ),\n",
        "        ( x[2,0] - C1 ) / sqrt( ( x[0,0] - A1 ) ** 2 + ( x[1,0] - B1 ) ** 2 + ( x[2,0] - C1 ) ** 2 ), c ],\n",
        "      [ ( x[0,0] - A2 ) / sqrt( ( x[0,0] - A2 ) ** 2 + ( x[1,0] - B2 ) ** 2 + ( x[2,0] - C2 ) ** 2 ),\n",
        "        ( x[1,0] - B2 ) / sqrt( ( x[0,0] - A2 ) ** 2 + ( x[1,0] - B2 ) ** 2 + ( x[2,0] - C2 ) ** 2 ),\n",
        "        ( x[2,0] - C2 ) / sqrt( ( x[0,0] - A2 ) ** 2 + ( x[1,0] - B2 ) ** 2 + ( x[2,0] - C2 ) ** 2 ), c ],\n",
        "     [ ( x[0,0] - A3 ) / sqrt( ( x[0,0] - A3 ) ** 2 + ( x[1,0] - B3 ) ** 2 + ( x[2,0] - C3 ) ** 2 ),\n",
        "       ( x[1,0] - B3 ) / sqrt( ( x[0,0] - A3 ) ** 2 + ( x[1,0] - B3 ) ** 2 + ( x[2,0] - C3 ) ** 2 ),\n",
        "        ( x[2,0] - C3 ) / sqrt( ( x[0,0] - A3 ) ** 2 + ( x[1,0] - B3 ) ** 2 + ( x[2,0] - C3 ) ** 2 ), c ],\n",
        "      [ ( x[0,0] - A4 ) / sqrt( ( x[0,0] - A4 ) ** 2 + ( x[1,0] - B4 ) ** 2 + ( x[2,0] - C4 ) ** 2 ),\n",
        "        ( x[1,0] - B4 ) / sqrt( ( x[0,0] - A4 ) ** 2 + ( x[1,0] - B4 ) ** 2 + ( x[2,0] - C4 ) ** 2 ),\n",
        "        ( x[2,0] - C4 ) / sqrt( ( x[0,0] - A4 ) ** 2 + ( x[1,0] - B4 ) ** 2 + ( x[2,0] - C4 ) ** 2 ), c ] ] )\n",
        "\n",
        "x_0 = 0; y_0 = 0; z_0 = 6370; d_0 = 0;\n",
        "x_k = np.array( [[x_0], [y_0], [z_0], [d_0]] )                                   # Initial vector guess.\n",
        "\n",
        "# First step of Newton's method\n",
        "##### TODO #3: uncomment first step of multivariate Newton's method\n",
        "s = np.linalg.solve( J(x_k), - F(x_k) )\n",
        "x_k = x_k + s;\n",
        "\n",
        "# Second step of Newton's method\n",
        "##### TODO #4: uncomment second step of multivariate Newton's method\n",
        "s = np.linalg.solve( J(x_k), - F(x_k) )\n",
        "x_k = x_k + s;\n",
        "\n",
        "print(\"x=\", f\"{x_k[0,0]: 10.5f}\",\"   y=\", f\"{x_k[1,0]: 10.5f}\",\"   z=\", f\"{x_k[2,0]: 10.4f}\",\"   d=\", f\"{x_k[3,0]: 10.6e}\")"
      ],
      "execution_count": 5,
      "outputs": [
        {
          "output_type": "stream",
          "name": "stdout",
          "text": [
            "x=  -41.77271    y=  -16.78919    z=  6370.0596    d= -3.201566e-03\n"
          ]
        }
      ]
    },
    {
      "cell_type": "code",
      "source": [
        "import numpy as np\n",
        "from numpy import sqrt\n",
        "\n",
        "# --- Constants ---\n",
        "# Earth's radius (km) - not used in these specific calculations but good practice\n",
        "r = 6367.4447\n",
        "# Speed of light in a vacuum (km/sec)\n",
        "c = 299792.458\n",
        "\n",
        "\n",
        "# --- Question 1: Forward Problem ---\n",
        "# This part calculates the expected time measurements (t1, t2, t3, t4) based on a known position.\n",
        "\n",
        "print(\"--- Question 1: Forward Problem Results ---\")\n",
        "\n",
        "# Given receiver position and time correction\n",
        "x_pos = 21\n",
        "y_pos = 176\n",
        "z_pos = 10072\n",
        "d_corr = 0.0012\n",
        "\n",
        "# Given satellite positions (km)\n",
        "A1, B1, C1 = 15600,  7540, 20140\n",
        "A2, B2, C2 = 18760,  2750, 18610\n",
        "A3, B3, C3 = 17610, 14630, 13480\n",
        "A4, B4, C4 = 19170,   610, 18390\n",
        "\n",
        "# The core formula is: distance = c * (time_measured - time_correction)\n",
        "# We can rearrange this to solve for time_measured: time_measured = time_correction + distance / c\n",
        "\n",
        "# Calculate the distance to each satellite\n",
        "dist1 = sqrt((x_pos - A1)**2 + (y_pos - B1)**2 + (z_pos - C1)**2)\n",
        "dist2 = sqrt((x_pos - A2)**2 + (y_pos - B2)**2 + (z_pos - C2)**2)\n",
        "dist3 = sqrt((x_pos - A3)**2 + (y_pos - B3)**2 + (z_pos - C3)**2)\n",
        "dist4 = sqrt((x_pos - A4)**2 + (y_pos - B4)**2 + (z_pos - C4)**2)\n",
        "\n",
        "# Calculate the corresponding time measurements\n",
        "t1_calc = d_corr + dist1 / c\n",
        "t2_calc = d_corr + dist2 / c\n",
        "t3_calc = d_corr + dist3 / c\n",
        "t4_calc = d_corr + dist4 / c\n",
        "\n",
        "print(f\"Calculated t1: {t1_calc:.8f} s\")\n",
        "print(f\"Calculated t2: {t2_calc:.8f} s\")\n",
        "print(f\"Calculated t3: {t3_calc:.8f} s\")\n",
        "print(f\"Calculated t4: {t4_calc:.8f} s\")\n",
        "print(\"-\" * 45)\n",
        "\n",
        "\n",
        "# --- Question 2: Inverse Problem ---\n",
        "# This part uses Multivariate Newton's method to find the position (x, y, z) and\n",
        "# time correction (d) based on known time measurements.\n",
        "\n",
        "print(\"\\n--- Question 2: Inverse Problem Results ---\")\n",
        "\n",
        "# New satellite positions (km) and measured times (s)\n",
        "A1, B1, C1, t1 = 18500,  4980, 18405, 0.068369\n",
        "A2, B2, C2, t2 = 19641,  8000, 16000, 0.071752\n",
        "A3, B3, C3, t3 = 12356, 11129, 20719, 0.065283\n",
        "A4, B4, C4, t4 = 18876, 17001,  7776, 0.082428\n",
        "\n",
        "# The system of equations we want to solve for x = [x, y, z, d] is F(x) = 0.\n",
        "# F(x) represents the difference between the calculated distance and the measured distance.\n",
        "F = lambda x: np.array(\n",
        "    [ [sqrt((x[0,0] - A1)**2 + (x[1,0] - B1)**2 + (x[2,0] - C1)**2) - c * (t1 - x[3,0])],\n",
        "      [sqrt((x[0,0] - A2)**2 + (x[1,0] - B2)**2 + (x[2,0] - C2)**2) - c * (t2 - x[3,0])],\n",
        "      [sqrt((x[0,0] - A3)**2 + (x[1,0] - B3)**2 + (x[2,0] - C3)**2) - c * (t3 - x[3,0])],\n",
        "      [sqrt((x[0,0] - A4)**2 + (x[1,0] - B4)**2 + (x[2,0] - C4)**2) - c * (t4 - x[3,0])] ])\n",
        "\n",
        "# The Jacobian matrix, J(x), contains the partial derivatives of F(x).\n",
        "J = lambda x: np.array([\n",
        "    [(x[0,0] - A1) / sqrt((x[0,0] - A1)**2 + (x[1,0] - B1)**2 + (x[2,0] - C1)**2), (x[1,0] - B1) / sqrt((x[0,0] - A1)**2 + (x[1,0] - B1)**2 + (x[2,0] - C1)**2), (x[2,0] - C1) / sqrt((x[0,0] - A1)**2 + (x[1,0] - B1)**2 + (x[2,0] - C1)**2), c],\n",
        "    [(x[0,0] - A2) / sqrt((x[0,0] - A2)**2 + (x[1,0] - B2)**2 + (x[2,0] - C2)**2), (x[1,0] - B2) / sqrt((x[0,0] - A2)**2 + (x[1,0] - B2)**2 + (x[2,0] - C2)**2), (x[2,0] - C2) / sqrt((x[0,0] - A2)**2 + (x[1,0] - B2)**2 + (x[2,0] - C2)**2), c],\n",
        "    [(x[0,0] - A3) / sqrt((x[0,0] - A3)**2 + (x[1,0] - B3)**2 + (x[2,0] - C3)**2), (x[1,0] - B3) / sqrt((x[0,0] - A3)**2 + (x[1,0] - B3)**2 + (x[2,0] - C3)**2), (x[2,0] - C3) / sqrt((x[0,0] - A3)**2 + (x[1,0] - B3)**2 + (x[2,0] - C3)**2), c],\n",
        "    [(x[0,0] - A4) / sqrt((x[0,0] - A4)**2 + (x[1,0] - B4)**2 + (x[2,0] - C4)**2), (x[1,0] - B4) / sqrt((x[0,0] - A4)**2 + (x[1,0] - B4)**2 + (x[2,0] - C4)**2), (x[2,0] - C4) / sqrt((x[0,0] - A4)**2 + (x[1,0] - B4)**2 + (x[2,0] - C4)**2), c]\n",
        "])\n",
        "\n",
        "# Initial guess for our position [x, y, z, d].\n",
        "# A reasonable guess is (0, 0, Earth's radius) and a time correction of 0.\n",
        "x_0, y_0, z_0, d_0 = 0, 0, 6370, 0\n",
        "x_k = np.array([[x_0], [y_0], [z_0], [d_0]], dtype=float)\n",
        "\n",
        "print(f\"Initial Guess (x, y, z, d): ({x_k[0,0]:.1f}, {x_k[1,0]:.1f}, {x_k[2,0]:.1f}, {x_k[3,0]:.1f})\")\n",
        "\n",
        "# Perform two iterations of Newton's method\n",
        "# The update rule is: x_{k+1} = x_k - J(x_k)^-1 * F(x_k)\n",
        "# We solve the linear system J(x_k) * s = -F(x_k) for s, then update x_k = x_k + s.\n",
        "\n",
        "# First iteration\n",
        "s = np.linalg.solve(J(x_k), -F(x_k))\n",
        "x_k += s\n",
        "print(f\"After 1st iteration (x, y, z, d): ({x_k[0,0]:.4f}, {x_k[1,0]:.4f}, {x_k[2,0]:.4f}, {x_k[3,0]:.8f})\")\n",
        "\n",
        "\n",
        "# Second iteration\n",
        "s = np.linalg.solve(J(x_k), -F(x_k))\n",
        "x_k += s\n",
        "print(f\"After 2nd iteration (x, y, z, d): ({x_k[0,0]:.4f}, {x_k[1,0]:.4f}, {x_k[2,0]:.4f}, {x_k[3,0]:.8f})\")\n",
        "\n",
        "print(\"\\nFinal calculated position and time correction:\")\n",
        "print(f\"x = {x_k[0,0]:10.5f} km\")\n",
        "print(f\"y = {x_k[1,0]:10.5f} km\")\n",
        "print(f\"z = {x_k[2,0]:10.4f} km\")\n",
        "print(f\"d = {x_k[3,0]:10.6e} s\")\n"
      ],
      "metadata": {
        "colab": {
          "base_uri": "https://localhost:8080/"
        },
        "id": "Xb-jkkUqtOfu",
        "outputId": "a67dc34a-ad37-4788-b53e-b9ba94e57c1c"
      },
      "execution_count": 6,
      "outputs": [
        {
          "output_type": "stream",
          "name": "stdout",
          "text": [
            "--- Question 1: Forward Problem Results ---\n",
            "Calculated t1: 0.06777077 s\n",
            "Calculated t2: 0.07042343 s\n",
            "Calculated t3: 0.07798538 s\n",
            "Calculated t4: 0.07085515 s\n",
            "---------------------------------------------\n",
            "\n",
            "--- Question 2: Inverse Problem Results ---\n",
            "Initial Guess (x, y, z, d): (0.0, 0.0, 6370.0, 0.0)\n",
            "After 1st iteration (x, y, z, d): (49.8019, -194.5344, 9110.8599, -0.00224373)\n",
            "After 2nd iteration (x, y, z, d): (221.5377, -97.5726, 9109.3579, -0.00209782)\n",
            "\n",
            "Final calculated position and time correction:\n",
            "x =  221.53770 km\n",
            "y =  -97.57259 km\n",
            "z =  9109.3579 km\n",
            "d = -2.097824e-03 s\n"
          ]
        }
      ]
    }
  ]
}